{
 "cells": [
  {
   "cell_type": "markdown",
   "metadata": {},
   "source": [
    "# Prostate cancer prediction\n",
    "\n",
    "In this project we will analyze the prostate canecer patient data and will do modeling for prediction. Although we have limited data points (100 patients information) but the models can be utilized for larger dataset."
   ]
  },
  {
   "cell_type": "markdown",
   "metadata": {},
   "source": [
    "### Import libraries\n",
    "\n",
    "We will be using keras library that provide python interface for artificial neural networks. Let's install it."
   ]
  },
  {
   "cell_type": "code",
   "execution_count": 76,
   "metadata": {},
   "outputs": [],
   "source": [
    "import pandas as pd\n",
    "import numpy as np\n",
    "import seaborn as sns\n",
    "import matplotlib.pyplot as plt\n",
    "from sklearn.feature_selection import VarianceThreshold\n",
    "from sklearn.model_selection import train_test_split\n",
    "from sklearn.metrics import classification_report\n",
    "from sklearn import preprocessing\n",
    "from tensorflow.keras import Sequential\n",
    "from tensorflow.keras.layers import Dense\n",
    "from tensorflow.keras.layers import Dropout\n",
    "from sklearn import metrics"
   ]
  },
  {
   "cell_type": "markdown",
   "metadata": {},
   "source": [
    "### Data loading\n",
    "Will load data for the exploraory data analyses (EDA)"
   ]
  },
  {
   "cell_type": "code",
   "execution_count": 77,
   "metadata": {},
   "outputs": [
    {
     "data": {
      "text/html": [
       "<div>\n",
       "<style scoped>\n",
       "    .dataframe tbody tr th:only-of-type {\n",
       "        vertical-align: middle;\n",
       "    }\n",
       "\n",
       "    .dataframe tbody tr th {\n",
       "        vertical-align: top;\n",
       "    }\n",
       "\n",
       "    .dataframe thead th {\n",
       "        text-align: right;\n",
       "    }\n",
       "</style>\n",
       "<table border=\"1\" class=\"dataframe\">\n",
       "  <thead>\n",
       "    <tr style=\"text-align: right;\">\n",
       "      <th></th>\n",
       "      <th>id</th>\n",
       "      <th>diagnosis_result</th>\n",
       "      <th>radius</th>\n",
       "      <th>texture</th>\n",
       "      <th>perimeter</th>\n",
       "      <th>area</th>\n",
       "      <th>smoothness</th>\n",
       "      <th>compactness</th>\n",
       "      <th>symmetry</th>\n",
       "      <th>fractal_dimension</th>\n",
       "    </tr>\n",
       "  </thead>\n",
       "  <tbody>\n",
       "    <tr>\n",
       "      <td>0</td>\n",
       "      <td>1</td>\n",
       "      <td>M</td>\n",
       "      <td>23</td>\n",
       "      <td>12</td>\n",
       "      <td>151</td>\n",
       "      <td>954</td>\n",
       "      <td>0.143</td>\n",
       "      <td>0.278</td>\n",
       "      <td>0.242</td>\n",
       "      <td>0.079</td>\n",
       "    </tr>\n",
       "    <tr>\n",
       "      <td>1</td>\n",
       "      <td>2</td>\n",
       "      <td>B</td>\n",
       "      <td>9</td>\n",
       "      <td>13</td>\n",
       "      <td>133</td>\n",
       "      <td>1326</td>\n",
       "      <td>0.143</td>\n",
       "      <td>0.079</td>\n",
       "      <td>0.181</td>\n",
       "      <td>0.057</td>\n",
       "    </tr>\n",
       "    <tr>\n",
       "      <td>2</td>\n",
       "      <td>3</td>\n",
       "      <td>M</td>\n",
       "      <td>21</td>\n",
       "      <td>27</td>\n",
       "      <td>130</td>\n",
       "      <td>1203</td>\n",
       "      <td>0.125</td>\n",
       "      <td>0.160</td>\n",
       "      <td>0.207</td>\n",
       "      <td>0.060</td>\n",
       "    </tr>\n",
       "    <tr>\n",
       "      <td>3</td>\n",
       "      <td>4</td>\n",
       "      <td>M</td>\n",
       "      <td>14</td>\n",
       "      <td>16</td>\n",
       "      <td>78</td>\n",
       "      <td>386</td>\n",
       "      <td>0.070</td>\n",
       "      <td>0.284</td>\n",
       "      <td>0.260</td>\n",
       "      <td>0.097</td>\n",
       "    </tr>\n",
       "    <tr>\n",
       "      <td>4</td>\n",
       "      <td>5</td>\n",
       "      <td>M</td>\n",
       "      <td>9</td>\n",
       "      <td>19</td>\n",
       "      <td>135</td>\n",
       "      <td>1297</td>\n",
       "      <td>0.141</td>\n",
       "      <td>0.133</td>\n",
       "      <td>0.181</td>\n",
       "      <td>0.059</td>\n",
       "    </tr>\n",
       "  </tbody>\n",
       "</table>\n",
       "</div>"
      ],
      "text/plain": [
       "   id diagnosis_result  radius  texture  perimeter  area  smoothness  \\\n",
       "0   1                M      23       12        151   954       0.143   \n",
       "1   2                B       9       13        133  1326       0.143   \n",
       "2   3                M      21       27        130  1203       0.125   \n",
       "3   4                M      14       16         78   386       0.070   \n",
       "4   5                M       9       19        135  1297       0.141   \n",
       "\n",
       "   compactness  symmetry  fractal_dimension  \n",
       "0        0.278     0.242              0.079  \n",
       "1        0.079     0.181              0.057  \n",
       "2        0.160     0.207              0.060  \n",
       "3        0.284     0.260              0.097  \n",
       "4        0.133     0.181              0.059  "
      ]
     },
     "execution_count": 77,
     "metadata": {},
     "output_type": "execute_result"
    }
   ],
   "source": [
    "df = pd.read_csv(\"F:/Projects/Prostate cancer/Prostate_cancer.csv\")\n",
    "df.head()"
   ]
  },
  {
   "cell_type": "markdown",
   "metadata": {},
   "source": [
    "Here in diagnosis B = Benign tumor, M = Metastatic tumor. Benign tumors are localized and less aggressive than the metastatic tumors."
   ]
  },
  {
   "cell_type": "markdown",
   "metadata": {},
   "source": [
    "### Exploratory data analyses "
   ]
  },
  {
   "cell_type": "markdown",
   "metadata": {},
   "source": [
    "#### Let's see the concise summary of a DataFrame"
   ]
  },
  {
   "cell_type": "code",
   "execution_count": 78,
   "metadata": {},
   "outputs": [
    {
     "name": "stdout",
     "output_type": "stream",
     "text": [
      "<class 'pandas.core.frame.DataFrame'>\n",
      "RangeIndex: 100 entries, 0 to 99\n",
      "Data columns (total 10 columns):\n",
      "id                   100 non-null int64\n",
      "diagnosis_result     100 non-null object\n",
      "radius               100 non-null int64\n",
      "texture              100 non-null int64\n",
      "perimeter            100 non-null int64\n",
      "area                 100 non-null int64\n",
      "smoothness           100 non-null float64\n",
      "compactness          100 non-null float64\n",
      "symmetry             100 non-null float64\n",
      "fractal_dimension    100 non-null float64\n",
      "dtypes: float64(4), int64(5), object(1)\n",
      "memory usage: 7.9+ KB\n"
     ]
    }
   ],
   "source": [
    "df.info()"
   ]
  },
  {
   "cell_type": "markdown",
   "metadata": {},
   "source": [
    "#### Let's calculate some statistical data like percentile, mean and std of the numerical values of the DataFrame"
   ]
  },
  {
   "cell_type": "code",
   "execution_count": 79,
   "metadata": {
    "scrolled": true
   },
   "outputs": [
    {
     "data": {
      "text/html": [
       "<div>\n",
       "<style scoped>\n",
       "    .dataframe tbody tr th:only-of-type {\n",
       "        vertical-align: middle;\n",
       "    }\n",
       "\n",
       "    .dataframe tbody tr th {\n",
       "        vertical-align: top;\n",
       "    }\n",
       "\n",
       "    .dataframe thead th {\n",
       "        text-align: right;\n",
       "    }\n",
       "</style>\n",
       "<table border=\"1\" class=\"dataframe\">\n",
       "  <thead>\n",
       "    <tr style=\"text-align: right;\">\n",
       "      <th></th>\n",
       "      <th>id</th>\n",
       "      <th>radius</th>\n",
       "      <th>texture</th>\n",
       "      <th>perimeter</th>\n",
       "      <th>area</th>\n",
       "      <th>smoothness</th>\n",
       "      <th>compactness</th>\n",
       "      <th>symmetry</th>\n",
       "      <th>fractal_dimension</th>\n",
       "    </tr>\n",
       "  </thead>\n",
       "  <tbody>\n",
       "    <tr>\n",
       "      <td>count</td>\n",
       "      <td>100.000000</td>\n",
       "      <td>100.000000</td>\n",
       "      <td>100.000000</td>\n",
       "      <td>100.000000</td>\n",
       "      <td>100.000000</td>\n",
       "      <td>100.000000</td>\n",
       "      <td>100.000000</td>\n",
       "      <td>100.000000</td>\n",
       "      <td>100.000000</td>\n",
       "    </tr>\n",
       "    <tr>\n",
       "      <td>mean</td>\n",
       "      <td>50.500000</td>\n",
       "      <td>16.850000</td>\n",
       "      <td>18.230000</td>\n",
       "      <td>96.780000</td>\n",
       "      <td>702.880000</td>\n",
       "      <td>0.102730</td>\n",
       "      <td>0.126700</td>\n",
       "      <td>0.193170</td>\n",
       "      <td>0.064690</td>\n",
       "    </tr>\n",
       "    <tr>\n",
       "      <td>std</td>\n",
       "      <td>29.011492</td>\n",
       "      <td>4.879094</td>\n",
       "      <td>5.192954</td>\n",
       "      <td>23.676089</td>\n",
       "      <td>319.710895</td>\n",
       "      <td>0.014642</td>\n",
       "      <td>0.061144</td>\n",
       "      <td>0.030785</td>\n",
       "      <td>0.008151</td>\n",
       "    </tr>\n",
       "    <tr>\n",
       "      <td>min</td>\n",
       "      <td>1.000000</td>\n",
       "      <td>9.000000</td>\n",
       "      <td>11.000000</td>\n",
       "      <td>52.000000</td>\n",
       "      <td>202.000000</td>\n",
       "      <td>0.070000</td>\n",
       "      <td>0.038000</td>\n",
       "      <td>0.135000</td>\n",
       "      <td>0.053000</td>\n",
       "    </tr>\n",
       "    <tr>\n",
       "      <td>25%</td>\n",
       "      <td>25.750000</td>\n",
       "      <td>12.000000</td>\n",
       "      <td>14.000000</td>\n",
       "      <td>82.500000</td>\n",
       "      <td>476.750000</td>\n",
       "      <td>0.093500</td>\n",
       "      <td>0.080500</td>\n",
       "      <td>0.172000</td>\n",
       "      <td>0.059000</td>\n",
       "    </tr>\n",
       "    <tr>\n",
       "      <td>50%</td>\n",
       "      <td>50.500000</td>\n",
       "      <td>17.000000</td>\n",
       "      <td>17.500000</td>\n",
       "      <td>94.000000</td>\n",
       "      <td>644.000000</td>\n",
       "      <td>0.102000</td>\n",
       "      <td>0.118500</td>\n",
       "      <td>0.190000</td>\n",
       "      <td>0.063000</td>\n",
       "    </tr>\n",
       "    <tr>\n",
       "      <td>75%</td>\n",
       "      <td>75.250000</td>\n",
       "      <td>21.000000</td>\n",
       "      <td>22.250000</td>\n",
       "      <td>114.250000</td>\n",
       "      <td>917.000000</td>\n",
       "      <td>0.112000</td>\n",
       "      <td>0.157000</td>\n",
       "      <td>0.209000</td>\n",
       "      <td>0.069000</td>\n",
       "    </tr>\n",
       "    <tr>\n",
       "      <td>max</td>\n",
       "      <td>100.000000</td>\n",
       "      <td>25.000000</td>\n",
       "      <td>27.000000</td>\n",
       "      <td>172.000000</td>\n",
       "      <td>1878.000000</td>\n",
       "      <td>0.143000</td>\n",
       "      <td>0.345000</td>\n",
       "      <td>0.304000</td>\n",
       "      <td>0.097000</td>\n",
       "    </tr>\n",
       "  </tbody>\n",
       "</table>\n",
       "</div>"
      ],
      "text/plain": [
       "               id      radius     texture   perimeter         area  \\\n",
       "count  100.000000  100.000000  100.000000  100.000000   100.000000   \n",
       "mean    50.500000   16.850000   18.230000   96.780000   702.880000   \n",
       "std     29.011492    4.879094    5.192954   23.676089   319.710895   \n",
       "min      1.000000    9.000000   11.000000   52.000000   202.000000   \n",
       "25%     25.750000   12.000000   14.000000   82.500000   476.750000   \n",
       "50%     50.500000   17.000000   17.500000   94.000000   644.000000   \n",
       "75%     75.250000   21.000000   22.250000  114.250000   917.000000   \n",
       "max    100.000000   25.000000   27.000000  172.000000  1878.000000   \n",
       "\n",
       "       smoothness  compactness    symmetry  fractal_dimension  \n",
       "count  100.000000   100.000000  100.000000         100.000000  \n",
       "mean     0.102730     0.126700    0.193170           0.064690  \n",
       "std      0.014642     0.061144    0.030785           0.008151  \n",
       "min      0.070000     0.038000    0.135000           0.053000  \n",
       "25%      0.093500     0.080500    0.172000           0.059000  \n",
       "50%      0.102000     0.118500    0.190000           0.063000  \n",
       "75%      0.112000     0.157000    0.209000           0.069000  \n",
       "max      0.143000     0.345000    0.304000           0.097000  "
      ]
     },
     "execution_count": 79,
     "metadata": {},
     "output_type": "execute_result"
    }
   ],
   "source": [
    "df.describe()"
   ]
  },
  {
   "cell_type": "markdown",
   "metadata": {},
   "source": [
    "#### Lets detect missing values"
   ]
  },
  {
   "cell_type": "code",
   "execution_count": 80,
   "metadata": {},
   "outputs": [
    {
     "data": {
      "text/html": [
       "<div>\n",
       "<style scoped>\n",
       "    .dataframe tbody tr th:only-of-type {\n",
       "        vertical-align: middle;\n",
       "    }\n",
       "\n",
       "    .dataframe tbody tr th {\n",
       "        vertical-align: top;\n",
       "    }\n",
       "\n",
       "    .dataframe thead th {\n",
       "        text-align: right;\n",
       "    }\n",
       "</style>\n",
       "<table border=\"1\" class=\"dataframe\">\n",
       "  <thead>\n",
       "    <tr style=\"text-align: right;\">\n",
       "      <th></th>\n",
       "      <th>id</th>\n",
       "      <th>diagnosis_result</th>\n",
       "      <th>radius</th>\n",
       "      <th>texture</th>\n",
       "      <th>perimeter</th>\n",
       "      <th>area</th>\n",
       "      <th>smoothness</th>\n",
       "      <th>compactness</th>\n",
       "      <th>symmetry</th>\n",
       "      <th>fractal_dimension</th>\n",
       "    </tr>\n",
       "  </thead>\n",
       "  <tbody>\n",
       "    <tr>\n",
       "      <td>0</td>\n",
       "      <td>False</td>\n",
       "      <td>False</td>\n",
       "      <td>False</td>\n",
       "      <td>False</td>\n",
       "      <td>False</td>\n",
       "      <td>False</td>\n",
       "      <td>False</td>\n",
       "      <td>False</td>\n",
       "      <td>False</td>\n",
       "      <td>False</td>\n",
       "    </tr>\n",
       "    <tr>\n",
       "      <td>1</td>\n",
       "      <td>False</td>\n",
       "      <td>False</td>\n",
       "      <td>False</td>\n",
       "      <td>False</td>\n",
       "      <td>False</td>\n",
       "      <td>False</td>\n",
       "      <td>False</td>\n",
       "      <td>False</td>\n",
       "      <td>False</td>\n",
       "      <td>False</td>\n",
       "    </tr>\n",
       "    <tr>\n",
       "      <td>2</td>\n",
       "      <td>False</td>\n",
       "      <td>False</td>\n",
       "      <td>False</td>\n",
       "      <td>False</td>\n",
       "      <td>False</td>\n",
       "      <td>False</td>\n",
       "      <td>False</td>\n",
       "      <td>False</td>\n",
       "      <td>False</td>\n",
       "      <td>False</td>\n",
       "    </tr>\n",
       "    <tr>\n",
       "      <td>3</td>\n",
       "      <td>False</td>\n",
       "      <td>False</td>\n",
       "      <td>False</td>\n",
       "      <td>False</td>\n",
       "      <td>False</td>\n",
       "      <td>False</td>\n",
       "      <td>False</td>\n",
       "      <td>False</td>\n",
       "      <td>False</td>\n",
       "      <td>False</td>\n",
       "    </tr>\n",
       "    <tr>\n",
       "      <td>4</td>\n",
       "      <td>False</td>\n",
       "      <td>False</td>\n",
       "      <td>False</td>\n",
       "      <td>False</td>\n",
       "      <td>False</td>\n",
       "      <td>False</td>\n",
       "      <td>False</td>\n",
       "      <td>False</td>\n",
       "      <td>False</td>\n",
       "      <td>False</td>\n",
       "    </tr>\n",
       "    <tr>\n",
       "      <td>...</td>\n",
       "      <td>...</td>\n",
       "      <td>...</td>\n",
       "      <td>...</td>\n",
       "      <td>...</td>\n",
       "      <td>...</td>\n",
       "      <td>...</td>\n",
       "      <td>...</td>\n",
       "      <td>...</td>\n",
       "      <td>...</td>\n",
       "      <td>...</td>\n",
       "    </tr>\n",
       "    <tr>\n",
       "      <td>95</td>\n",
       "      <td>False</td>\n",
       "      <td>False</td>\n",
       "      <td>False</td>\n",
       "      <td>False</td>\n",
       "      <td>False</td>\n",
       "      <td>False</td>\n",
       "      <td>False</td>\n",
       "      <td>False</td>\n",
       "      <td>False</td>\n",
       "      <td>False</td>\n",
       "    </tr>\n",
       "    <tr>\n",
       "      <td>96</td>\n",
       "      <td>False</td>\n",
       "      <td>False</td>\n",
       "      <td>False</td>\n",
       "      <td>False</td>\n",
       "      <td>False</td>\n",
       "      <td>False</td>\n",
       "      <td>False</td>\n",
       "      <td>False</td>\n",
       "      <td>False</td>\n",
       "      <td>False</td>\n",
       "    </tr>\n",
       "    <tr>\n",
       "      <td>97</td>\n",
       "      <td>False</td>\n",
       "      <td>False</td>\n",
       "      <td>False</td>\n",
       "      <td>False</td>\n",
       "      <td>False</td>\n",
       "      <td>False</td>\n",
       "      <td>False</td>\n",
       "      <td>False</td>\n",
       "      <td>False</td>\n",
       "      <td>False</td>\n",
       "    </tr>\n",
       "    <tr>\n",
       "      <td>98</td>\n",
       "      <td>False</td>\n",
       "      <td>False</td>\n",
       "      <td>False</td>\n",
       "      <td>False</td>\n",
       "      <td>False</td>\n",
       "      <td>False</td>\n",
       "      <td>False</td>\n",
       "      <td>False</td>\n",
       "      <td>False</td>\n",
       "      <td>False</td>\n",
       "    </tr>\n",
       "    <tr>\n",
       "      <td>99</td>\n",
       "      <td>False</td>\n",
       "      <td>False</td>\n",
       "      <td>False</td>\n",
       "      <td>False</td>\n",
       "      <td>False</td>\n",
       "      <td>False</td>\n",
       "      <td>False</td>\n",
       "      <td>False</td>\n",
       "      <td>False</td>\n",
       "      <td>False</td>\n",
       "    </tr>\n",
       "  </tbody>\n",
       "</table>\n",
       "<p>100 rows × 10 columns</p>\n",
       "</div>"
      ],
      "text/plain": [
       "       id  diagnosis_result  radius  texture  perimeter   area  smoothness  \\\n",
       "0   False             False   False    False      False  False       False   \n",
       "1   False             False   False    False      False  False       False   \n",
       "2   False             False   False    False      False  False       False   \n",
       "3   False             False   False    False      False  False       False   \n",
       "4   False             False   False    False      False  False       False   \n",
       "..    ...               ...     ...      ...        ...    ...         ...   \n",
       "95  False             False   False    False      False  False       False   \n",
       "96  False             False   False    False      False  False       False   \n",
       "97  False             False   False    False      False  False       False   \n",
       "98  False             False   False    False      False  False       False   \n",
       "99  False             False   False    False      False  False       False   \n",
       "\n",
       "    compactness  symmetry  fractal_dimension  \n",
       "0         False     False              False  \n",
       "1         False     False              False  \n",
       "2         False     False              False  \n",
       "3         False     False              False  \n",
       "4         False     False              False  \n",
       "..          ...       ...                ...  \n",
       "95        False     False              False  \n",
       "96        False     False              False  \n",
       "97        False     False              False  \n",
       "98        False     False              False  \n",
       "99        False     False              False  \n",
       "\n",
       "[100 rows x 10 columns]"
      ]
     },
     "execution_count": 80,
     "metadata": {},
     "output_type": "execute_result"
    }
   ],
   "source": [
    "df.isnull()"
   ]
  },
  {
   "cell_type": "markdown",
   "metadata": {},
   "source": [
    "#### Lets see the number of missing values in the data set"
   ]
  },
  {
   "cell_type": "code",
   "execution_count": 81,
   "metadata": {},
   "outputs": [
    {
     "data": {
      "text/plain": [
       "id                   0\n",
       "diagnosis_result     0\n",
       "radius               0\n",
       "texture              0\n",
       "perimeter            0\n",
       "area                 0\n",
       "smoothness           0\n",
       "compactness          0\n",
       "symmetry             0\n",
       "fractal_dimension    0\n",
       "dtype: int64"
      ]
     },
     "execution_count": 81,
     "metadata": {},
     "output_type": "execute_result"
    }
   ],
   "source": [
    "df.isnull().sum()"
   ]
  },
  {
   "cell_type": "markdown",
   "metadata": {},
   "source": [
    "#### Let's transpose index and columns of the data frame"
   ]
  },
  {
   "cell_type": "code",
   "execution_count": 82,
   "metadata": {},
   "outputs": [
    {
     "data": {
      "text/html": [
       "<div>\n",
       "<style scoped>\n",
       "    .dataframe tbody tr th:only-of-type {\n",
       "        vertical-align: middle;\n",
       "    }\n",
       "\n",
       "    .dataframe tbody tr th {\n",
       "        vertical-align: top;\n",
       "    }\n",
       "\n",
       "    .dataframe thead th {\n",
       "        text-align: right;\n",
       "    }\n",
       "</style>\n",
       "<table border=\"1\" class=\"dataframe\">\n",
       "  <thead>\n",
       "    <tr style=\"text-align: right;\">\n",
       "      <th></th>\n",
       "      <th>0</th>\n",
       "      <th>1</th>\n",
       "      <th>2</th>\n",
       "      <th>3</th>\n",
       "      <th>4</th>\n",
       "      <th>5</th>\n",
       "      <th>6</th>\n",
       "      <th>7</th>\n",
       "      <th>8</th>\n",
       "      <th>9</th>\n",
       "      <th>...</th>\n",
       "      <th>90</th>\n",
       "      <th>91</th>\n",
       "      <th>92</th>\n",
       "      <th>93</th>\n",
       "      <th>94</th>\n",
       "      <th>95</th>\n",
       "      <th>96</th>\n",
       "      <th>97</th>\n",
       "      <th>98</th>\n",
       "      <th>99</th>\n",
       "    </tr>\n",
       "  </thead>\n",
       "  <tbody>\n",
       "    <tr>\n",
       "      <td>id</td>\n",
       "      <td>1</td>\n",
       "      <td>2</td>\n",
       "      <td>3</td>\n",
       "      <td>4</td>\n",
       "      <td>5</td>\n",
       "      <td>6</td>\n",
       "      <td>7</td>\n",
       "      <td>8</td>\n",
       "      <td>9</td>\n",
       "      <td>10</td>\n",
       "      <td>...</td>\n",
       "      <td>91</td>\n",
       "      <td>92</td>\n",
       "      <td>93</td>\n",
       "      <td>94</td>\n",
       "      <td>95</td>\n",
       "      <td>96</td>\n",
       "      <td>97</td>\n",
       "      <td>98</td>\n",
       "      <td>99</td>\n",
       "      <td>100</td>\n",
       "    </tr>\n",
       "    <tr>\n",
       "      <td>diagnosis_result</td>\n",
       "      <td>M</td>\n",
       "      <td>B</td>\n",
       "      <td>M</td>\n",
       "      <td>M</td>\n",
       "      <td>M</td>\n",
       "      <td>B</td>\n",
       "      <td>M</td>\n",
       "      <td>M</td>\n",
       "      <td>M</td>\n",
       "      <td>M</td>\n",
       "      <td>...</td>\n",
       "      <td>B</td>\n",
       "      <td>M</td>\n",
       "      <td>B</td>\n",
       "      <td>B</td>\n",
       "      <td>M</td>\n",
       "      <td>M</td>\n",
       "      <td>B</td>\n",
       "      <td>B</td>\n",
       "      <td>B</td>\n",
       "      <td>M</td>\n",
       "    </tr>\n",
       "    <tr>\n",
       "      <td>radius</td>\n",
       "      <td>23</td>\n",
       "      <td>9</td>\n",
       "      <td>21</td>\n",
       "      <td>14</td>\n",
       "      <td>9</td>\n",
       "      <td>25</td>\n",
       "      <td>16</td>\n",
       "      <td>15</td>\n",
       "      <td>19</td>\n",
       "      <td>25</td>\n",
       "      <td>...</td>\n",
       "      <td>23</td>\n",
       "      <td>10</td>\n",
       "      <td>14</td>\n",
       "      <td>10</td>\n",
       "      <td>22</td>\n",
       "      <td>23</td>\n",
       "      <td>22</td>\n",
       "      <td>19</td>\n",
       "      <td>21</td>\n",
       "      <td>16</td>\n",
       "    </tr>\n",
       "    <tr>\n",
       "      <td>texture</td>\n",
       "      <td>12</td>\n",
       "      <td>13</td>\n",
       "      <td>27</td>\n",
       "      <td>16</td>\n",
       "      <td>19</td>\n",
       "      <td>25</td>\n",
       "      <td>26</td>\n",
       "      <td>18</td>\n",
       "      <td>24</td>\n",
       "      <td>11</td>\n",
       "      <td>...</td>\n",
       "      <td>27</td>\n",
       "      <td>12</td>\n",
       "      <td>14</td>\n",
       "      <td>17</td>\n",
       "      <td>26</td>\n",
       "      <td>16</td>\n",
       "      <td>14</td>\n",
       "      <td>27</td>\n",
       "      <td>24</td>\n",
       "      <td>27</td>\n",
       "    </tr>\n",
       "    <tr>\n",
       "      <td>perimeter</td>\n",
       "      <td>151</td>\n",
       "      <td>133</td>\n",
       "      <td>130</td>\n",
       "      <td>78</td>\n",
       "      <td>135</td>\n",
       "      <td>83</td>\n",
       "      <td>120</td>\n",
       "      <td>90</td>\n",
       "      <td>88</td>\n",
       "      <td>84</td>\n",
       "      <td>...</td>\n",
       "      <td>95</td>\n",
       "      <td>100</td>\n",
       "      <td>85</td>\n",
       "      <td>87</td>\n",
       "      <td>100</td>\n",
       "      <td>132</td>\n",
       "      <td>78</td>\n",
       "      <td>62</td>\n",
       "      <td>74</td>\n",
       "      <td>94</td>\n",
       "    </tr>\n",
       "  </tbody>\n",
       "</table>\n",
       "<p>5 rows × 100 columns</p>\n",
       "</div>"
      ],
      "text/plain": [
       "                   0    1    2   3    4   5    6   7   8   9   ...  90   91  \\\n",
       "id                  1    2    3   4    5   6    7   8   9  10  ...  91   92   \n",
       "diagnosis_result    M    B    M   M    M   B    M   M   M   M  ...   B    M   \n",
       "radius             23    9   21  14    9  25   16  15  19  25  ...  23   10   \n",
       "texture            12   13   27  16   19  25   26  18  24  11  ...  27   12   \n",
       "perimeter         151  133  130  78  135  83  120  90  88  84  ...  95  100   \n",
       "\n",
       "                  92  93   94   95  96  97  98   99  \n",
       "id                93  94   95   96  97  98  99  100  \n",
       "diagnosis_result   B   B    M    M   B   B   B    M  \n",
       "radius            14  10   22   23  22  19  21   16  \n",
       "texture           14  17   26   16  14  27  24   27  \n",
       "perimeter         85  87  100  132  78  62  74   94  \n",
       "\n",
       "[5 rows x 100 columns]"
      ]
     },
     "execution_count": 82,
     "metadata": {},
     "output_type": "execute_result"
    }
   ],
   "source": [
    "df.T.head()"
   ]
  },
  {
   "cell_type": "code",
   "execution_count": 85,
   "metadata": {},
   "outputs": [
    {
     "data": {
      "text/html": [
       "<div>\n",
       "<style scoped>\n",
       "    .dataframe tbody tr th:only-of-type {\n",
       "        vertical-align: middle;\n",
       "    }\n",
       "\n",
       "    .dataframe tbody tr th {\n",
       "        vertical-align: top;\n",
       "    }\n",
       "\n",
       "    .dataframe thead th {\n",
       "        text-align: right;\n",
       "    }\n",
       "</style>\n",
       "<table border=\"1\" class=\"dataframe\">\n",
       "  <thead>\n",
       "    <tr style=\"text-align: right;\">\n",
       "      <th></th>\n",
       "      <th>id</th>\n",
       "      <th>diagnosis_result</th>\n",
       "      <th>radius</th>\n",
       "      <th>texture</th>\n",
       "      <th>perimeter</th>\n",
       "      <th>area</th>\n",
       "      <th>smoothness</th>\n",
       "      <th>compactness</th>\n",
       "      <th>symmetry</th>\n",
       "      <th>fractal_dimension</th>\n",
       "    </tr>\n",
       "  </thead>\n",
       "  <tbody>\n",
       "    <tr>\n",
       "      <td>0</td>\n",
       "      <td>1</td>\n",
       "      <td>M</td>\n",
       "      <td>23</td>\n",
       "      <td>12</td>\n",
       "      <td>151</td>\n",
       "      <td>954</td>\n",
       "      <td>0.143</td>\n",
       "      <td>0.278</td>\n",
       "      <td>0.242</td>\n",
       "      <td>0.079</td>\n",
       "    </tr>\n",
       "    <tr>\n",
       "      <td>1</td>\n",
       "      <td>2</td>\n",
       "      <td>B</td>\n",
       "      <td>9</td>\n",
       "      <td>13</td>\n",
       "      <td>133</td>\n",
       "      <td>1326</td>\n",
       "      <td>0.143</td>\n",
       "      <td>0.079</td>\n",
       "      <td>0.181</td>\n",
       "      <td>0.057</td>\n",
       "    </tr>\n",
       "    <tr>\n",
       "      <td>2</td>\n",
       "      <td>3</td>\n",
       "      <td>M</td>\n",
       "      <td>21</td>\n",
       "      <td>27</td>\n",
       "      <td>130</td>\n",
       "      <td>1203</td>\n",
       "      <td>0.125</td>\n",
       "      <td>0.160</td>\n",
       "      <td>0.207</td>\n",
       "      <td>0.060</td>\n",
       "    </tr>\n",
       "    <tr>\n",
       "      <td>3</td>\n",
       "      <td>4</td>\n",
       "      <td>M</td>\n",
       "      <td>14</td>\n",
       "      <td>16</td>\n",
       "      <td>78</td>\n",
       "      <td>386</td>\n",
       "      <td>0.070</td>\n",
       "      <td>0.284</td>\n",
       "      <td>0.260</td>\n",
       "      <td>0.097</td>\n",
       "    </tr>\n",
       "    <tr>\n",
       "      <td>4</td>\n",
       "      <td>5</td>\n",
       "      <td>M</td>\n",
       "      <td>9</td>\n",
       "      <td>19</td>\n",
       "      <td>135</td>\n",
       "      <td>1297</td>\n",
       "      <td>0.141</td>\n",
       "      <td>0.133</td>\n",
       "      <td>0.181</td>\n",
       "      <td>0.059</td>\n",
       "    </tr>\n",
       "  </tbody>\n",
       "</table>\n",
       "</div>"
      ],
      "text/plain": [
       "   id diagnosis_result  radius  texture  perimeter  area  smoothness  \\\n",
       "0   1                M      23       12        151   954       0.143   \n",
       "1   2                B       9       13        133  1326       0.143   \n",
       "2   3                M      21       27        130  1203       0.125   \n",
       "3   4                M      14       16         78   386       0.070   \n",
       "4   5                M       9       19        135  1297       0.141   \n",
       "\n",
       "   compactness  symmetry  fractal_dimension  \n",
       "0        0.278     0.242              0.079  \n",
       "1        0.079     0.181              0.057  \n",
       "2        0.160     0.207              0.060  \n",
       "3        0.284     0.260              0.097  \n",
       "4        0.133     0.181              0.059  "
      ]
     },
     "execution_count": 85,
     "metadata": {},
     "output_type": "execute_result"
    }
   ],
   "source": [
    "columns = df.columns\n",
    "columns_new = []\n",
    "for i in columns:\n",
    "    columns_new.append(any(df[i].isnull()| df[i].isnull()))\n",
    "df=df.drop(columns[columns_new],axis=1)\n",
    "df.head()"
   ]
  },
  {
   "cell_type": "markdown",
   "metadata": {},
   "source": [
    "#### Let's get the number of unique patients"
   ]
  },
  {
   "cell_type": "code",
   "execution_count": 28,
   "metadata": {},
   "outputs": [
    {
     "data": {
      "text/plain": [
       "{'unique patients': 100, 'records': 100}"
      ]
     },
     "execution_count": 28,
     "metadata": {},
     "output_type": "execute_result"
    }
   ],
   "source": [
    "{'unique patients':len(df.id.unique()), 'records':len(df.id)}"
   ]
  },
  {
   "cell_type": "markdown",
   "metadata": {},
   "source": [
    "#### Let's draw countplot to see the counts of observation in each categorical bin using bar"
   ]
  },
  {
   "cell_type": "code",
   "execution_count": 86,
   "metadata": {},
   "outputs": [
    {
     "data": {
      "text/plain": [
       "M    62\n",
       "B    38\n",
       "Name: diagnosis_result, dtype: int64"
      ]
     },
     "execution_count": 86,
     "metadata": {},
     "output_type": "execute_result"
    },
    {
     "data": {
      "image/png": "[encoded data removed]",
      "text/plain": [
       "<Figure size 432x288 with 1 Axes>"
      ]
     },
     "metadata": {
      "needs_background": "light"
     },
     "output_type": "display_data"
    }
   ],
   "source": [
    "ax = sns.countplot(df.diagnosis_result,label= \"count\")\n",
    "df.diagnosis_result.value_counts()"
   ]
  },
  {
   "cell_type": "markdown",
   "metadata": {},
   "source": [
    "#### Let's plot boxplot and see the data of benign (B) tumors "
   ]
  },
  {
   "cell_type": "code",
   "execution_count": 97,
   "metadata": {},
   "outputs": [
    {
     "data": {
      "image/png": "[encoded data removed]",
      "text/plain": [
       "<Figure size 432x288 with 1 Axes>"
      ]
     },
     "metadata": {
      "needs_background": "light"
     },
     "output_type": "display_data"
    }
   ],
   "source": [
    "ax=sns.boxplot(palette = \"Set2\", orient='h', data=df[df.diagnosis_result=='B'])"
   ]
  },
  {
   "cell_type": "markdown",
   "metadata": {},
   "source": [
    "#### Let's plot boxplot and see the data of malignant (M) tumors "
   ]
  },
  {
   "cell_type": "code",
   "execution_count": 98,
   "metadata": {},
   "outputs": [
    {
     "data": {
      "image/png": "[encoded data removed]",
      "text/plain": [
       "<Figure size 432x288 with 1 Axes>"
      ]
     },
     "metadata": {
      "needs_background": "light"
     },
     "output_type": "display_data"
    }
   ],
   "source": [
    "ax=sns.boxplot(palette = \"Set2\", orient='h', data=df[df.diagnosis_result=='M'])"
   ]
  },
  {
   "cell_type": "markdown",
   "metadata": {},
   "source": [
    "### Train and test splitting for evaluating the performance of a machine learning algorithm"
   ]
  },
  {
   "cell_type": "code",
   "execution_count": 99,
   "metadata": {},
   "outputs": [],
   "source": [
    "X_train, X_test, y_train, y_test = train_test_split(\n",
    "    df.drop(['id', 'diagnosis_result'], axis=1),\n",
    "    df[['diagnosis_result']],\n",
    "    test_size=0.25,\n",
    "    random_state=42)"
   ]
  },
  {
   "cell_type": "code",
   "execution_count": 100,
   "metadata": {},
   "outputs": [
    {
     "data": {
      "text/plain": [
       "(75, 8)"
      ]
     },
     "execution_count": 100,
     "metadata": {},
     "output_type": "execute_result"
    }
   ],
   "source": [
    "X_train.shape"
   ]
  },
  {
   "cell_type": "markdown",
   "metadata": {},
   "source": [
    "### Removing outliers"
   ]
  },
  {
   "cell_type": "code",
   "execution_count": 101,
   "metadata": {},
   "outputs": [],
   "source": [
    "for column in X_train.columns:\n",
    "    \n",
    "    df_train1 = X_train[(y_train.diagnosis_result=='B') & (X_train[column]<np.mean(X_train.loc[y_train.diagnosis_result=='B',column])+3*np.std(X_train.loc[y_train.diagnosis_result=='B',column]))]\n",
    "    df_test1 = X_test[(y_test.diagnosis_result=='B') & (X_test[column]<np.mean(X_train.loc[y_train.diagnosis_result=='B',column])+3*np.std(X_train.loc[y_train.diagnosis_result=='B',column]))]\n",
    "    \n",
    "    label_train1 = y_train[(y_train.diagnosis_result=='B') & (X_train[column]<np.mean(X_train.loc[y_train.diagnosis_result=='B',column])+3*np.std(X_train.loc[y_train.diagnosis_result=='B',column]))]\n",
    "    label_test1 = y_test[(y_test.diagnosis_result=='B') & (X_test[column]<np.mean(X_train.loc[y_train.diagnosis_result=='B',column])+3*np.std(X_train.loc[y_train.diagnosis_result=='B',column]))]\n",
    "    \n",
    "    df_train2 = X_train[(y_train.diagnosis_result=='M') & (X_train[column]<np.mean(X_train.loc[y_train.diagnosis_result=='M',column])+3*np.std(X_train.loc[y_train.diagnosis_result=='M',column]))]\n",
    "    df_test2 = X_test[(y_test.diagnosis_result=='M') & (X_test[column]<np.mean(X_train.loc[y_train.diagnosis_result=='M',column])+3*np.std(X_train.loc[y_train.diagnosis_result=='M',column]))]\n",
    "    \n",
    "    label_train2 = y_train[(y_train.diagnosis_result=='M') & (X_train[column]<np.mean(X_train.loc[y_train.diagnosis_result=='M',column])+3*np.std(X_train.loc[y_train.diagnosis_result=='M',column]))]\n",
    "    label_test2 = y_test[(y_test.diagnosis_result=='M') & (X_test[column]<np.mean(X_train.loc[y_train.diagnosis_result=='M',column])+3*np.std(X_train.loc[y_train.diagnosis_result=='M',column]))]    "
   ]
  },
  {
   "cell_type": "code",
   "execution_count": 102,
   "metadata": {},
   "outputs": [
    {
     "data": {
      "text/plain": [
       "(73, 8)"
      ]
     },
     "execution_count": 102,
     "metadata": {},
     "output_type": "execute_result"
    }
   ],
   "source": [
    "X_train=pd.concat([df_train1,df_train2])\n",
    "y_train=pd.concat([label_train1,label_train2])\n",
    "\n",
    "X_test=pd.concat([df_test1,df_test2])\n",
    "y_test=pd.concat([label_test1,label_test2])\n",
    "\n",
    "X_train.shape"
   ]
  },
  {
   "cell_type": "markdown",
   "metadata": {},
   "source": [
    "### Removing correlated features\n",
    "Correlated features reduces the model performance (accuracy). When you have two independent variables that are highly correlated, you should remove one of them as you run into the multicollinearity conundrum that can lead towider confidence intervals that produce less reliable probabilities in terms of the effect of independent variables in a model."
   ]
  },
  {
   "cell_type": "code",
   "execution_count": 111,
   "metadata": {},
   "outputs": [
    {
     "data": {
      "image/png": "[encoded data removed]",
      "text/plain": [
       "<Figure size 360x360 with 2 Axes>"
      ]
     },
     "metadata": {
      "needs_background": "light"
     },
     "output_type": "display_data"
    }
   ],
   "source": [
    "corrMatrix = X_train.corr()\n",
    "f,ax = plt.subplots(figsize=(5, 5))\n",
    "sns.heatmap(corrMatrix, annot=True,ax=ax)\n",
    "plt.show()"
   ]
  },
  {
   "cell_type": "code",
   "execution_count": 107,
   "metadata": {},
   "outputs": [
    {
     "name": "stdout",
     "output_type": "stream",
     "text": [
      "{'area'}\n"
     ]
    }
   ],
   "source": [
    "correlated_features = set()\n",
    "for i in range(len(corrMatrix.columns)):\n",
    "    for k in range(i):\n",
    "        if abs(corrMatrix.iloc[i, k]) > 0.7:\n",
    "            colname = corrMatrix.columns[i]\n",
    "            correlated_features.add(colname)\n",
    "print(correlated_features)"
   ]
  },
  {
   "cell_type": "code",
   "execution_count": 108,
   "metadata": {},
   "outputs": [],
   "source": [
    "X_train.drop(labels=correlated_features, axis=1, inplace=True)\n",
    "X_test.drop(labels=correlated_features, axis=1, inplace=True)"
   ]
  },
  {
   "cell_type": "code",
   "execution_count": 112,
   "metadata": {},
   "outputs": [
    {
     "data": {
      "image/png": "[encoded data removed]",
      "text/plain": [
       "<Figure size 360x360 with 2 Axes>"
      ]
     },
     "metadata": {
      "needs_background": "light"
     },
     "output_type": "display_data"
    }
   ],
   "source": [
    "corrMatrix = X_train.corr()\n",
    "f,ax = plt.subplots(figsize=(5, 5))\n",
    "sns.heatmap(corrMatrix, annot=True,ax=ax)\n",
    "plt.show()"
   ]
  },
  {
   "cell_type": "markdown",
   "metadata": {},
   "source": [
    "### Removing features with 0 variance\n",
    "\n",
    "If the variance is zero, it means that the feature is constant and will not improve the performance of the model."
   ]
  },
  {
   "cell_type": "code",
   "execution_count": 54,
   "metadata": {},
   "outputs": [
    {
     "data": {
      "text/plain": [
       "((73, 6), (25, 6))"
      ]
     },
     "execution_count": 54,
     "metadata": {},
     "output_type": "execute_result"
    }
   ],
   "source": [
    "constant_filter = VarianceThreshold(threshold=0.0)\n",
    "constant_filter.fit(X_train)\n",
    "X_train = constant_filter.transform(X_train)\n",
    "X_test = constant_filter.transform(X_test)\n",
    "\n",
    "X_train.shape, X_test.shape"
   ]
  },
  {
   "cell_type": "markdown",
   "metadata": {},
   "source": [
    "### Scaling the data\n",
    "\n",
    "It is a preprocessing of data which will help in normalizing the data within a particular range."
   ]
  },
  {
   "cell_type": "code",
   "execution_count": 113,
   "metadata": {},
   "outputs": [],
   "source": [
    "mm_scaler = preprocessing.StandardScaler()\n",
    "X_train = pd.DataFrame(mm_scaler.fit_transform(X_train))\n",
    "X_test = pd.DataFrame(mm_scaler.transform(X_test))"
   ]
  },
  {
   "cell_type": "markdown",
   "metadata": {},
   "source": [
    "### Training the model\n",
    "\n",
    "Learning or determining good values for all the weights and the bias from labeled example."
   ]
  },
  {
   "cell_type": "code",
   "execution_count": 115,
   "metadata": {},
   "outputs": [],
   "source": [
    "def conf_matrix(matrix,pred):\n",
    "    class_names= [0,1]# name  of the classes\n",
    "    fig, ax = plt.subplots()\n",
    "    tick_marks = np.arange(len(class_names))\n",
    "    plt.xticks(tick_marks, class_names)\n",
    "    plt.yticks(tick_marks, class_names)\n",
    "    # create a heatmap\n",
    "    sns.heatmap(pd.DataFrame(matrix), annot=True, cmap=\"YlGnBu\" ,fmt='g')\n",
    "    ax.xaxis.set_label_position(\"top\")\n",
    "    plt.tight_layout()\n",
    "    plt.title('Confusion matrix', y=1.1)\n",
    "    plt.ylabel('Actual label')\n",
    "    plt.xlabel('Predicted label')\n",
    "    plt.show()"
   ]
  },
  {
   "cell_type": "markdown",
   "metadata": {},
   "source": [
    "### Random Forest\n",
    "\n",
    "Used to solve classification and regression problems"
   ]
  },
  {
   "cell_type": "code",
   "execution_count": 116,
   "metadata": {},
   "outputs": [
    {
     "name": "stdout",
     "output_type": "stream",
     "text": [
      "Random Forest Algorithm Accuracy Score : 84.00%\n"
     ]
    }
   ],
   "source": [
    "from sklearn.ensemble import RandomForestClassifier\n",
    "rf = RandomForestClassifier(class_weight=\"balanced\",n_estimators=200,random_state = 1)\n",
    "rf.fit(X_train, y_train.values.ravel())\n",
    "y_pred=rf.predict(X_test)\n",
    "acc = metrics.accuracy_score(y_pred,y_test.values.ravel())*100\n",
    "print(\"Random Forest Algorithm Accuracy Score : {:.2f}%\".format(acc))"
   ]
  },
  {
   "cell_type": "code",
   "execution_count": 117,
   "metadata": {},
   "outputs": [
    {
     "data": {
      "image/png": "[encoded data removed]",
      "text/plain": [
       "<Figure size 432x288 with 2 Axes>"
      ]
     },
     "metadata": {
      "needs_background": "light"
     },
     "output_type": "display_data"
    },
    {
     "name": "stdout",
     "output_type": "stream",
     "text": [
      "              precision    recall  f1-score   support\n",
      "\n",
      "           B       0.57      0.80      0.67         5\n",
      "           M       0.94      0.85      0.89        20\n",
      "\n",
      "    accuracy                           0.84        25\n",
      "   macro avg       0.76      0.82      0.78        25\n",
      "weighted avg       0.87      0.84      0.85        25\n",
      "\n"
     ]
    }
   ],
   "source": [
    "# make class predictions with the random forest model\n",
    "y_pred = rf.predict(X_test)\n",
    "cnf_matrix = metrics.confusion_matrix(y_pred,y_test)\n",
    "conf_matrix(cnf_matrix,y_test)\n",
    "# calculate prediction\n",
    "report = classification_report(y_pred,y_test)\n",
    "print(report)"
   ]
  },
  {
   "cell_type": "markdown",
   "metadata": {},
   "source": [
    "### Naive Bayes\n",
    "\n",
    "For making a random or constant prediction."
   ]
  },
  {
   "cell_type": "code",
   "execution_count": 118,
   "metadata": {},
   "outputs": [
    {
     "name": "stdout",
     "output_type": "stream",
     "text": [
      "Accuracy of Naive Bayes: 80.00%\n"
     ]
    }
   ],
   "source": [
    "from sklearn.naive_bayes import GaussianNB\n",
    "nb = GaussianNB()\n",
    "nb.fit(X_train, y_train.values.ravel())\n",
    "\n",
    "y_pred=nb.predict(X_test)\n",
    "acc = metrics.accuracy_score(y_pred,y_test.values.ravel())*100\n",
    "\n",
    "print(\"Accuracy of Naive Bayes: {:.2f}%\".format(acc))"
   ]
  },
  {
   "cell_type": "code",
   "execution_count": 120,
   "metadata": {},
   "outputs": [
    {
     "data": {
      "image/png": "[encoded data removed]",
      "text/plain": [
       "<Figure size 432x288 with 2 Axes>"
      ]
     },
     "metadata": {
      "needs_background": "light"
     },
     "output_type": "display_data"
    },
    {
     "name": "stdout",
     "output_type": "stream",
     "text": [
      "              precision    recall  f1-score   support\n",
      "\n",
      "           B       0.71      0.62      0.67         8\n",
      "           M       0.83      0.88      0.86        17\n",
      "\n",
      "    accuracy                           0.80        25\n",
      "   macro avg       0.77      0.75      0.76        25\n",
      "weighted avg       0.80      0.80      0.80        25\n",
      "\n"
     ]
    }
   ],
   "source": [
    "# make class predictions with the model\n",
    "y_pred = nb.predict(X_test)\n",
    "cnf_matrix = metrics.confusion_matrix(y_pred,y_test)\n",
    "conf_matrix(cnf_matrix,y_test)\n",
    "# calculate the prediction\n",
    "report = classification_report(y_pred,y_test)\n",
    "print(report)"
   ]
  },
  {
   "cell_type": "markdown",
   "metadata": {},
   "source": [
    "### Support Vector Machine\n",
    "\n",
    "Support Vector Classifier (SVC) is used to fit the data and return a best fit hyperplane that categorize data."
   ]
  },
  {
   "cell_type": "code",
   "execution_count": 121,
   "metadata": {},
   "outputs": [
    {
     "name": "stdout",
     "output_type": "stream",
     "text": [
      "Test Accuracy of SVM Algorithm: 76.00%\n"
     ]
    }
   ],
   "source": [
    "from sklearn.svm import SVC\n",
    "svm = SVC(random_state = 1)\n",
    "svm.fit(X_train, y_train.values.ravel())\n",
    "\n",
    "y_pred=svm.predict(X_test)\n",
    "acc = metrics.accuracy_score(y_pred,y_test.values.ravel())*100\n",
    "\n",
    "print(\"Test Accuracy of SVM Algorithm: {:.2f}%\".format(acc))"
   ]
  },
  {
   "cell_type": "code",
   "execution_count": 123,
   "metadata": {},
   "outputs": [
    {
     "data": {
      "image/png": "[encoded data removed]",
      "text/plain": [
       "<Figure size 432x288 with 2 Axes>"
      ]
     },
     "metadata": {
      "needs_background": "light"
     },
     "output_type": "display_data"
    },
    {
     "name": "stdout",
     "output_type": "stream",
     "text": [
      "              precision    recall  f1-score   support\n",
      "\n",
      "           B       0.43      0.60      0.50         5\n",
      "           M       0.89      0.80      0.84        20\n",
      "\n",
      "    accuracy                           0.76        25\n",
      "   macro avg       0.66      0.70      0.67        25\n",
      "weighted avg       0.80      0.76      0.77        25\n",
      "\n"
     ]
    }
   ],
   "source": [
    "# make class predictions with the model\n",
    "y_pred = svm.predict(X_test)\n",
    "cnf_matrix = metrics.confusion_matrix(y_pred,y_test)\n",
    "conf_matrix(cnf_matrix,y_test)\n",
    "# calculate prediction\n",
    "report = classification_report(y_pred,y_test)\n",
    "print(report)"
   ]
  },
  {
   "cell_type": "markdown",
   "metadata": {},
   "source": [
    "### KNN"
   ]
  },
  {
   "cell_type": "code",
   "execution_count": 124,
   "metadata": {},
   "outputs": [
    {
     "data": {
      "image/png": "[encoded data removed]",
      "text/plain": [
       "<Figure size 432x288 with 1 Axes>"
      ]
     },
     "metadata": {
      "needs_background": "light"
     },
     "output_type": "display_data"
    },
    {
     "name": "stdout",
     "output_type": "stream",
     "text": [
      "Maximum KNN Score is 88.00%\n"
     ]
    }
   ],
   "source": [
    "from sklearn.neighbors import KNeighborsClassifier\n",
    "\n",
    "# we will try ro find best k value\n",
    "score = []\n",
    "\n",
    "for i in range(1,20):\n",
    "    knn = KNeighborsClassifier(n_neighbors = i)  # n_neighbors means k\n",
    "    knn.fit(X_train, y_train.values.ravel())\n",
    "    score.append(knn.score(X_test, y_test.values.ravel()))\n",
    "    \n",
    "plt.plot(range(1,20), score)\n",
    "plt.xticks(np.arange(1,20,1))\n",
    "plt.xlabel(\"K neighbors\")\n",
    "plt.ylabel(\"Score\")\n",
    "plt.show()\n",
    "\n",
    "acc = max(score)*100\n",
    "print(\"Maximum KNN Score is {:.2f}%\".format(acc))"
   ]
  },
  {
   "cell_type": "code",
   "execution_count": 125,
   "metadata": {},
   "outputs": [
    {
     "data": {
      "text/plain": [
       "KNeighborsClassifier(algorithm='auto', leaf_size=30, metric='minkowski',\n",
       "                     metric_params=None, n_jobs=None, n_neighbors=11, p=2,\n",
       "                     weights='uniform')"
      ]
     },
     "execution_count": 125,
     "metadata": {},
     "output_type": "execute_result"
    }
   ],
   "source": [
    "knn = KNeighborsClassifier(n_neighbors =11)\n",
    "knn.fit(X_train, y_train.values.ravel())  "
   ]
  },
  {
   "cell_type": "code",
   "execution_count": 126,
   "metadata": {},
   "outputs": [
    {
     "data": {
      "image/png": "[encoded data removed]",
      "text/plain": [
       "<Figure size 432x288 with 2 Axes>"
      ]
     },
     "metadata": {
      "needs_background": "light"
     },
     "output_type": "display_data"
    },
    {
     "name": "stdout",
     "output_type": "stream",
     "text": [
      "              precision    recall  f1-score   support\n",
      "\n",
      "           B       0.43      0.75      0.55         4\n",
      "           M       0.94      0.81      0.87        21\n",
      "\n",
      "    accuracy                           0.80        25\n",
      "   macro avg       0.69      0.78      0.71        25\n",
      "weighted avg       0.86      0.80      0.82        25\n",
      "\n"
     ]
    }
   ],
   "source": [
    "# make predictions with the model\n",
    "y_pred = knn.predict(X_test)\n",
    "cnf_matrix = metrics.confusion_matrix(y_pred,y_test)\n",
    "conf_matrix(cnf_matrix,y_test)\n",
    "# calculate prediction\n",
    "report = classification_report(y_pred,y_test)\n",
    "print(report)"
   ]
  },
  {
   "cell_type": "markdown",
   "metadata": {},
   "source": [
    "### Logistic Regression"
   ]
  },
  {
   "cell_type": "code",
   "execution_count": 127,
   "metadata": {},
   "outputs": [
    {
     "name": "stdout",
     "output_type": "stream",
     "text": [
      "Test Accuracy of Logistic Regression Algorithm: 92.00%\n"
     ]
    },
    {
     "name": "stderr",
     "output_type": "stream",
     "text": [
      "C:\\Users\\\\ANACONDA\\lib\\site-packages\\sklearn\\linear_model\\logistic.py:432: FutureWarning: Default solver will be changed to 'lbfgs' in 0.22. Specify a solver to silence this warning.\n",
      "  FutureWarning)\n"
     ]
    }
   ],
   "source": [
    "from sklearn.linear_model import LogisticRegression\n",
    "\n",
    "logreg = LogisticRegression(max_iter=50)\n",
    "logreg.fit(X_train, y_train.values.ravel())\n",
    "y_pred=logreg.predict(X_test)\n",
    "acc = metrics.accuracy_score(y_pred,y_test.values.ravel())*100\n",
    "print(\"Test Accuracy of Logistic Regression Algorithm: {:.2f}%\".format(acc))"
   ]
  },
  {
   "cell_type": "code",
   "execution_count": 128,
   "metadata": {},
   "outputs": [
    {
     "data": {
      "image/png": "[encoded data removed]",
      "text/plain": [
       "<Figure size 432x288 with 2 Axes>"
      ]
     },
     "metadata": {
      "needs_background": "light"
     },
     "output_type": "display_data"
    },
    {
     "name": "stdout",
     "output_type": "stream",
     "text": [
      "              precision    recall  f1-score   support\n",
      "\n",
      "           B       0.71      1.00      0.83         5\n",
      "           M       1.00      0.90      0.95        20\n",
      "\n",
      "    accuracy                           0.92        25\n",
      "   macro avg       0.86      0.95      0.89        25\n",
      "weighted avg       0.94      0.92      0.92        25\n",
      "\n"
     ]
    }
   ],
   "source": [
    "# make predictions with the model\n",
    "y_pred = logreg.predict(X_test)\n",
    "cnf_matrix = metrics.confusion_matrix(y_pred,y_test)\n",
    "conf_matrix(cnf_matrix,y_test)\n",
    "# calculate prediction\n",
    "report = classification_report(y_pred,y_test)\n",
    "print(report)"
   ]
  },
  {
   "cell_type": "markdown",
   "metadata": {},
   "source": [
    "### Neural Network"
   ]
  },
  {
   "cell_type": "code",
   "execution_count": 129,
   "metadata": {},
   "outputs": [
    {
     "name": "stdout",
     "output_type": "stream",
     "text": [
      "WARNING:tensorflow:Falling back from v2 loop because of error: Failed to find data adapter that can handle input: <class 'pandas.core.frame.DataFrame'>, <class 'NoneType'>\n",
      "Train on 73 samples\n",
      "Epoch 1/100\n",
      "73/73 [==============================] - 0s 7ms/sample - loss: 0.8555 - accuracy: 0.3836\n",
      "Epoch 2/100\n",
      "73/73 [==============================] - 0s 396us/sample - loss: 0.8152 - accuracy: 0.3562\n",
      "Epoch 3/100\n",
      "73/73 [==============================] - 0s 287us/sample - loss: 0.7855 - accuracy: 0.3836\n",
      "Epoch 4/100\n",
      "73/73 [==============================] - 0s 301us/sample - loss: 0.7957 - accuracy: 0.4658\n",
      "Epoch 5/100\n",
      "73/73 [==============================] - 0s 287us/sample - loss: 0.7924 - accuracy: 0.4384\n",
      "Epoch 6/100\n",
      "73/73 [==============================] - 0s 273us/sample - loss: 0.7252 - accuracy: 0.3836\n",
      "Epoch 7/100\n",
      "73/73 [==============================] - 0s 301us/sample - loss: 0.7533 - accuracy: 0.4795\n",
      "Epoch 8/100\n",
      "73/73 [==============================] - 0s 301us/sample - loss: 0.7304 - accuracy: 0.5479\n",
      "Epoch 9/100\n",
      "73/73 [==============================] - 0s 301us/sample - loss: 0.7257 - accuracy: 0.4521\n",
      "Epoch 10/100\n",
      "73/73 [==============================] - 0s 287us/sample - loss: 0.7142 - accuracy: 0.5068\n",
      "Epoch 11/100\n",
      "73/73 [==============================] - 0s 260us/sample - loss: 0.7221 - accuracy: 0.5205\n",
      "Epoch 12/100\n",
      "73/73 [==============================] - 0s 287us/sample - loss: 0.6881 - accuracy: 0.5205\n",
      "Epoch 13/100\n",
      "73/73 [==============================] - 0s 273us/sample - loss: 0.6813 - accuracy: 0.5890\n",
      "Epoch 14/100\n",
      "73/73 [==============================] - 0s 328us/sample - loss: 0.6579 - accuracy: 0.6301\n",
      "Epoch 15/100\n",
      "73/73 [==============================] - 0s 287us/sample - loss: 0.6529 - accuracy: 0.6438\n",
      "Epoch 16/100\n",
      "73/73 [==============================] - 0s 301us/sample - loss: 0.6570 - accuracy: 0.6164\n",
      "Epoch 17/100\n",
      "73/73 [==============================] - 0s 287us/sample - loss: 0.6544 - accuracy: 0.6712\n",
      "Epoch 18/100\n",
      "73/73 [==============================] - 0s 273us/sample - loss: 0.6389 - accuracy: 0.6438\n",
      "Epoch 19/100\n",
      "73/73 [==============================] - 0s 301us/sample - loss: 0.6217 - accuracy: 0.6986\n",
      "Epoch 20/100\n",
      "73/73 [==============================] - 0s 314us/sample - loss: 0.6104 - accuracy: 0.7808\n",
      "Epoch 21/100\n",
      "73/73 [==============================] - 0s 287us/sample - loss: 0.6079 - accuracy: 0.7671\n",
      "Epoch 22/100\n",
      "73/73 [==============================] - 0s 314us/sample - loss: 0.6203 - accuracy: 0.6849\n",
      "Epoch 23/100\n",
      "73/73 [==============================] - 0s 287us/sample - loss: 0.5776 - accuracy: 0.7397\n",
      "Epoch 24/100\n",
      "73/73 [==============================] - 0s 273us/sample - loss: 0.5690 - accuracy: 0.8219\n",
      "Epoch 25/100\n",
      "73/73 [==============================] - 0s 301us/sample - loss: 0.5623 - accuracy: 0.8356\n",
      "Epoch 26/100\n",
      "73/73 [==============================] - 0s 287us/sample - loss: 0.5694 - accuracy: 0.7808\n",
      "Epoch 27/100\n",
      "73/73 [==============================] - 0s 287us/sample - loss: 0.5571 - accuracy: 0.7945\n",
      "Epoch 28/100\n",
      "73/73 [==============================] - 0s 328us/sample - loss: 0.5435 - accuracy: 0.8493\n",
      "Epoch 29/100\n",
      "73/73 [==============================] - 0s 301us/sample - loss: 0.5466 - accuracy: 0.7808\n",
      "Epoch 30/100\n",
      "73/73 [==============================] - 0s 301us/sample - loss: 0.5625 - accuracy: 0.7534\n",
      "Epoch 31/100\n",
      "73/73 [==============================] - 0s 287us/sample - loss: 0.5275 - accuracy: 0.8219\n",
      "Epoch 32/100\n",
      "73/73 [==============================] - 0s 301us/sample - loss: 0.5349 - accuracy: 0.7808\n",
      "Epoch 33/100\n",
      "73/73 [==============================] - 0s 287us/sample - loss: 0.5321 - accuracy: 0.7808\n",
      "Epoch 34/100\n",
      "73/73 [==============================] - 0s 287us/sample - loss: 0.4885 - accuracy: 0.8219\n",
      "Epoch 35/100\n",
      "73/73 [==============================] - 0s 314us/sample - loss: 0.4832 - accuracy: 0.8356\n",
      "Epoch 36/100\n",
      "73/73 [==============================] - 0s 301us/sample - loss: 0.4892 - accuracy: 0.8219\n",
      "Epoch 37/100\n",
      "73/73 [==============================] - 0s 314us/sample - loss: 0.4831 - accuracy: 0.8767\n",
      "Epoch 38/100\n",
      "73/73 [==============================] - 0s 301us/sample - loss: 0.4772 - accuracy: 0.8493\n",
      "Epoch 39/100\n",
      "73/73 [==============================] - 0s 301us/sample - loss: 0.4597 - accuracy: 0.8356\n",
      "Epoch 40/100\n",
      "73/73 [==============================] - 0s 273us/sample - loss: 0.4411 - accuracy: 0.8630\n",
      "Epoch 41/100\n",
      "73/73 [==============================] - 0s 273us/sample - loss: 0.4524 - accuracy: 0.8767\n",
      "Epoch 42/100\n",
      "73/73 [==============================] - 0s 287us/sample - loss: 0.4390 - accuracy: 0.8630\n",
      "Epoch 43/100\n",
      "73/73 [==============================] - 0s 314us/sample - loss: 0.4327 - accuracy: 0.8356\n",
      "Epoch 44/100\n",
      "73/73 [==============================] - 0s 301us/sample - loss: 0.4216 - accuracy: 0.8356\n",
      "Epoch 45/100\n",
      "73/73 [==============================] - 0s 273us/sample - loss: 0.4087 - accuracy: 0.8493\n",
      "Epoch 46/100\n",
      "73/73 [==============================] - 0s 273us/sample - loss: 0.4011 - accuracy: 0.8767\n",
      "Epoch 47/100\n",
      "73/73 [==============================] - 0s 301us/sample - loss: 0.3967 - accuracy: 0.8493\n",
      "Epoch 48/100\n",
      "73/73 [==============================] - 0s 301us/sample - loss: 0.3676 - accuracy: 0.8630\n",
      "Epoch 49/100\n",
      "73/73 [==============================] - 0s 287us/sample - loss: 0.3868 - accuracy: 0.8904\n",
      "Epoch 50/100\n",
      "73/73 [==============================] - 0s 342us/sample - loss: 0.3772 - accuracy: 0.8493\n",
      "Epoch 51/100\n",
      "73/73 [==============================] - 0s 273us/sample - loss: 0.3681 - accuracy: 0.8904\n",
      "Epoch 52/100\n",
      "73/73 [==============================] - 0s 287us/sample - loss: 0.3576 - accuracy: 0.8356\n",
      "Epoch 53/100\n",
      "73/73 [==============================] - 0s 328us/sample - loss: 0.3849 - accuracy: 0.8630\n",
      "Epoch 54/100\n",
      "73/73 [==============================] - ETA: 0s - loss: 0.3629 - accuracy: 0.87 - 0s 273us/sample - loss: 0.3619 - accuracy: 0.9041\n",
      "Epoch 55/100\n",
      "73/73 [==============================] - 0s 355us/sample - loss: 0.3733 - accuracy: 0.8767\n",
      "Epoch 56/100\n",
      "73/73 [==============================] - 0s 342us/sample - loss: 0.3575 - accuracy: 0.8630\n",
      "Epoch 57/100\n",
      "73/73 [==============================] - 0s 342us/sample - loss: 0.4224 - accuracy: 0.8219\n",
      "Epoch 58/100\n",
      "73/73 [==============================] - 0s 314us/sample - loss: 0.3492 - accuracy: 0.8767\n",
      "Epoch 59/100\n",
      "73/73 [==============================] - 0s 273us/sample - loss: 0.3779 - accuracy: 0.8493\n",
      "Epoch 60/100\n",
      "73/73 [==============================] - 0s 301us/sample - loss: 0.3490 - accuracy: 0.8904\n",
      "Epoch 61/100\n",
      "73/73 [==============================] - 0s 328us/sample - loss: 0.3132 - accuracy: 0.9178\n",
      "Epoch 62/100\n",
      "73/73 [==============================] - 0s 328us/sample - loss: 0.2999 - accuracy: 0.9041\n",
      "Epoch 63/100\n",
      "73/73 [==============================] - 0s 301us/sample - loss: 0.3475 - accuracy: 0.8493\n",
      "Epoch 64/100\n",
      "73/73 [==============================] - 0s 301us/sample - loss: 0.3235 - accuracy: 0.8767\n",
      "Epoch 65/100\n",
      "73/73 [==============================] - 0s 328us/sample - loss: 0.3108 - accuracy: 0.8767\n",
      "Epoch 66/100\n",
      "73/73 [==============================] - 0s 273us/sample - loss: 0.3194 - accuracy: 0.9041\n",
      "Epoch 67/100\n",
      "73/73 [==============================] - 0s 355us/sample - loss: 0.3395 - accuracy: 0.8493\n",
      "Epoch 68/100\n",
      "73/73 [==============================] - 0s 328us/sample - loss: 0.3374 - accuracy: 0.8767\n",
      "Epoch 69/100\n",
      "73/73 [==============================] - 0s 246us/sample - loss: 0.3406 - accuracy: 0.8630\n",
      "Epoch 70/100\n",
      "73/73 [==============================] - 0s 314us/sample - loss: 0.3047 - accuracy: 0.8904\n",
      "Epoch 71/100\n",
      "73/73 [==============================] - 0s 273us/sample - loss: 0.3287 - accuracy: 0.8630\n",
      "Epoch 72/100\n",
      "73/73 [==============================] - 0s 301us/sample - loss: 0.3232 - accuracy: 0.8767\n",
      "Epoch 73/100\n",
      "73/73 [==============================] - 0s 287us/sample - loss: 0.3683 - accuracy: 0.8630\n",
      "Epoch 74/100\n",
      "73/73 [==============================] - 0s 301us/sample - loss: 0.3200 - accuracy: 0.8219\n",
      "Epoch 75/100\n",
      "73/73 [==============================] - 0s 314us/sample - loss: 0.3153 - accuracy: 0.8493\n",
      "Epoch 76/100\n",
      "73/73 [==============================] - 0s 301us/sample - loss: 0.2959 - accuracy: 0.9041\n",
      "Epoch 77/100\n"
     ]
    },
    {
     "name": "stdout",
     "output_type": "stream",
     "text": [
      "73/73 [==============================] - 0s 314us/sample - loss: 0.3264 - accuracy: 0.8630\n",
      "Epoch 78/100\n",
      "73/73 [==============================] - 0s 314us/sample - loss: 0.3038 - accuracy: 0.9178\n",
      "Epoch 79/100\n",
      "73/73 [==============================] - 0s 273us/sample - loss: 0.2959 - accuracy: 0.9041\n",
      "Epoch 80/100\n",
      "73/73 [==============================] - 0s 273us/sample - loss: 0.2999 - accuracy: 0.9315\n",
      "Epoch 81/100\n",
      "73/73 [==============================] - 1s 8ms/sample - loss: 0.3128 - accuracy: 0.8904\n",
      "Epoch 82/100\n",
      "73/73 [==============================] - 0s 260us/sample - loss: 0.3028 - accuracy: 0.9178\n",
      "Epoch 83/100\n",
      "73/73 [==============================] - 0s 273us/sample - loss: 0.3113 - accuracy: 0.9041\n",
      "Epoch 84/100\n",
      "73/73 [==============================] - 0s 264us/sample - loss: 0.3115 - accuracy: 0.9041\n",
      "Epoch 85/100\n",
      "73/73 [==============================] - 0s 273us/sample - loss: 0.3486 - accuracy: 0.8630\n",
      "Epoch 86/100\n",
      "73/73 [==============================] - 0s 260us/sample - loss: 0.2843 - accuracy: 0.8767\n",
      "Epoch 87/100\n",
      "73/73 [==============================] - 0s 246us/sample - loss: 0.3163 - accuracy: 0.8630\n",
      "Epoch 88/100\n",
      "73/73 [==============================] - 0s 301us/sample - loss: 0.2833 - accuracy: 0.8767\n",
      "Epoch 89/100\n",
      "73/73 [==============================] - 0s 301us/sample - loss: 0.2805 - accuracy: 0.9041\n",
      "Epoch 90/100\n",
      "73/73 [==============================] - 0s 287us/sample - loss: 0.2749 - accuracy: 0.9041\n",
      "Epoch 91/100\n",
      "73/73 [==============================] - 0s 314us/sample - loss: 0.2827 - accuracy: 0.9041\n",
      "Epoch 92/100\n",
      "73/73 [==============================] - 0s 273us/sample - loss: 0.2506 - accuracy: 0.9041\n",
      "Epoch 93/100\n",
      "73/73 [==============================] - 0s 287us/sample - loss: 0.2772 - accuracy: 0.8904\n",
      "Epoch 94/100\n",
      "73/73 [==============================] - 0s 273us/sample - loss: 0.2468 - accuracy: 0.9315\n",
      "Epoch 95/100\n",
      "73/73 [==============================] - 0s 301us/sample - loss: 0.2674 - accuracy: 0.8767\n",
      "Epoch 96/100\n",
      "73/73 [==============================] - 0s 260us/sample - loss: 0.2484 - accuracy: 0.8904\n",
      "Epoch 97/100\n",
      "73/73 [==============================] - 0s 246us/sample - loss: 0.2800 - accuracy: 0.9041\n",
      "Epoch 98/100\n",
      "73/73 [==============================] - 0s 273us/sample - loss: 0.2989 - accuracy: 0.8493\n",
      "Epoch 99/100\n",
      "73/73 [==============================] - 0s 273us/sample - loss: 0.2798 - accuracy: 0.9041\n",
      "Epoch 100/100\n",
      "73/73 [==============================] - 0s 260us/sample - loss: 0.2454 - accuracy: 0.9315\n",
      "WARNING:tensorflow:Falling back from v2 loop because of error: Failed to find data adapter that can handle input: <class 'pandas.core.frame.DataFrame'>, <class 'NoneType'>\n",
      "25/25 [==============================] - 0s 865us/sample - loss: 0.4734 - accuracy: 0.8000\n"
     ]
    }
   ],
   "source": [
    "# define the keras model\n",
    "model = Sequential()\n",
    "model.add(Dense(12, input_dim=X_train.shape[1], activation='relu'))\n",
    "model.add(Dropout(0.2))\n",
    "model.add(Dense(8, activation='relu'))\n",
    "model.add(Dense(1, activation='sigmoid'))\n",
    "# compile the keras model\n",
    "model.compile(loss='binary_crossentropy', optimizer='adam', metrics=['accuracy'])\n",
    "# fit the keras model on the dataset\n",
    "model.fit(X_train, y_train.replace({'B':0,'M':1}), epochs=100, batch_size=8)\n",
    "# evaluate the keras model\n",
    "_, accuracy = model.evaluate(X_test, y_test.replace({'B':0,'M':1}))"
   ]
  },
  {
   "cell_type": "code",
   "execution_count": 130,
   "metadata": {},
   "outputs": [
    {
     "name": "stdout",
     "output_type": "stream",
     "text": [
      "WARNING:tensorflow:Falling back from v2 loop because of error: Failed to find data adapter that can handle input: <class 'pandas.core.frame.DataFrame'>, <class 'NoneType'>\n"
     ]
    },
    {
     "data": {
      "image/png": "[encoded data removed]",
      "text/plain": [
       "<Figure size 432x288 with 2 Axes>"
      ]
     },
     "metadata": {
      "needs_background": "light"
     },
     "output_type": "display_data"
    },
    {
     "name": "stdout",
     "output_type": "stream",
     "text": [
      "              precision    recall  f1-score   support\n",
      "\n",
      "           0       0.57      0.67      0.62         6\n",
      "           1       0.89      0.84      0.86        19\n",
      "\n",
      "    accuracy                           0.80        25\n",
      "   macro avg       0.73      0.75      0.74        25\n",
      "weighted avg       0.81      0.80      0.80        25\n",
      "\n"
     ]
    }
   ],
   "source": [
    "# make predictions with the model\n",
    "y_pred = model.predict_classes(X_test)\n",
    "cnf_matrix = metrics.confusion_matrix(y_pred,y_test.replace({'B':0,'M':1}))\n",
    "conf_matrix(cnf_matrix,y_test)\n",
    "# calculate\n",
    "report = classification_report(y_pred,y_test.replace({'B':0,'M':1}))\n",
    "print(report)"
   ]
  },
  {
   "cell_type": "markdown",
   "metadata": {},
   "source": [
    "### Ensemble models"
   ]
  },
  {
   "cell_type": "code",
   "execution_count": 131,
   "metadata": {},
   "outputs": [
    {
     "name": "stdout",
     "output_type": "stream",
     "text": [
      "['B' 'M' 'B' 'M' 'B' 'B' 'B' 'M' 'M' 'M' 'M' 'M' 'M' 'M' 'B' 'M' 'M' 'M'\n",
      " 'M' 'M' 'M' 'M' 'M' 'M' 'M']\n",
      "['B' 'M' 'M' 'M' 'B' 'B' 'B' 'M' 'M' 'M' 'M' 'M' 'M' 'M' 'B' 'M' 'M' 'M'\n",
      " 'M' 'M' 'M' 'M' 'M' 'M' 'M']\n"
     ]
    },
    {
     "name": "stderr",
     "output_type": "stream",
     "text": [
      "C:\\Users\\\\ANACONDA\\lib\\site-packages\\sklearn\\linear_model\\logistic.py:432: FutureWarning: Default solver will be changed to 'lbfgs' in 0.22. Specify a solver to silence this warning.\n",
      "  FutureWarning)\n",
      "C:\\Users\\\\ANACONDA\\lib\\site-packages\\sklearn\\linear_model\\logistic.py:432: FutureWarning: Default solver will be changed to 'lbfgs' in 0.22. Specify a solver to silence this warning.\n",
      "  FutureWarning)\n"
     ]
    }
   ],
   "source": [
    "from sklearn.ensemble import VotingClassifier\n",
    "\n",
    "eclf1 = VotingClassifier(estimators=[('lr', logreg), ('rf', knn)],\n",
    "                         voting='hard')\n",
    "eclf1 = eclf1.fit(X_train, y_train.values.ravel())\n",
    "print(eclf1.predict(X_test))\n",
    "eclf2 = VotingClassifier(estimators=[('lr', logreg), ('rf', knn)],voting='soft')\n",
    "eclf2 = eclf2.fit(X_train, y_train.values.ravel())\n",
    "print(eclf2.predict(X_test))"
   ]
  },
  {
   "cell_type": "markdown",
   "metadata": {},
   "source": [
    "### First ensemble"
   ]
  },
  {
   "cell_type": "code",
   "execution_count": 132,
   "metadata": {},
   "outputs": [
    {
     "data": {
      "image/png": "[encoded data removed]",
      "text/plain": [
       "<Figure size 432x288 with 2 Axes>"
      ]
     },
     "metadata": {
      "needs_background": "light"
     },
     "output_type": "display_data"
    },
    {
     "name": "stdout",
     "output_type": "stream",
     "text": [
      "              precision    recall  f1-score   support\n",
      "\n",
      "           B       0.71      0.83      0.77         6\n",
      "           M       0.94      0.89      0.92        19\n",
      "\n",
      "    accuracy                           0.88        25\n",
      "   macro avg       0.83      0.86      0.84        25\n",
      "weighted avg       0.89      0.88      0.88        25\n",
      "\n"
     ]
    }
   ],
   "source": [
    "# make predictions with the model\n",
    "y_pred = eclf1.predict(X_test)\n",
    "cnf_matrix = metrics.confusion_matrix(y_pred,y_test)\n",
    "conf_matrix(cnf_matrix,y_test)\n",
    "# calculate\n",
    "report = classification_report(y_pred,y_test)\n",
    "print(report)"
   ]
  },
  {
   "cell_type": "markdown",
   "metadata": {},
   "source": [
    "### Second ensemble"
   ]
  },
  {
   "cell_type": "code",
   "execution_count": 133,
   "metadata": {},
   "outputs": [
    {
     "data": {
      "image/png": "[encoded data removed]",
      "text/plain": [
       "<Figure size 432x288 with 2 Axes>"
      ]
     },
     "metadata": {
      "needs_background": "light"
     },
     "output_type": "display_data"
    },
    {
     "name": "stdout",
     "output_type": "stream",
     "text": [
      "              precision    recall  f1-score   support\n",
      "\n",
      "           B       0.57      0.80      0.67         5\n",
      "           M       0.94      0.85      0.89        20\n",
      "\n",
      "    accuracy                           0.84        25\n",
      "   macro avg       0.76      0.82      0.78        25\n",
      "weighted avg       0.87      0.84      0.85        25\n",
      "\n"
     ]
    }
   ],
   "source": [
    "# make class predictions with the model\n",
    "y_pred = eclf2.predict(X_test)\n",
    "cnf_matrix = metrics.confusion_matrix(y_pred,y_test)\n",
    "conf_matrix(cnf_matrix,y_test)\n",
    "# calculate\n",
    "report = classification_report(y_pred,y_test)\n",
    "print(report)"
   ]
  },
  {
   "cell_type": "markdown",
   "metadata": {},
   "source": [
    "### Conclusion\n",
    "100 data points are low amount of data to work, however it gave a good result for the learning and experimentation. The models can perform better with larger amounts of data."
   ]
  }
 ],
 "metadata": {
  "kernelspec": {
   "display_name": "Python 3",
   "language": "python",
   "name": "python3"
  },
  "language_info": {
   "codemirror_mode": {
    "name": "ipython",
    "version": 3
   },
   "file_extension": ".py",
   "mimetype": "text/x-python",
   "name": "python",
   "nbconvert_exporter": "python",
   "pygments_lexer": "ipython3",
   "version": "3.7.4"
  }
 },
 "nbformat": 4,
 "nbformat_minor": 2
}
